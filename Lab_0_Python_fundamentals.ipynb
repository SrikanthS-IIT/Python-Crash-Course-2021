{
  "nbformat": 4,
  "nbformat_minor": 0,
  "metadata": {
    "colab": {
      "name": "Lab 0 - Python fundamentals",
      "provenance": [],
      "collapsed_sections": []
    },
    "kernelspec": {
      "name": "python3",
      "display_name": "Python 3"
    },
    "language_info": {
      "name": "python"
    }
  },
  "cells": [
    {
      "cell_type": "markdown",
      "source": [
        "#**Python Fundamentals**\n",
        "#### *Srikanth Sugavanam,14th February 2022,* ssrikanth@iitmandi.ac.in \n",
        "Lab 0 - Python Fundamentals © 2022 by Srikanth Sugavanam is licensed under CC BY 4.0\n",
        "\n",
        "---\n",
        "\n",
        "This task is a Python refresher. Its purpose is to help you revisit some basic Python concepts that will help you to write basic code for using it with the Raspberry Pi.\n",
        "\n",
        "Run each cell of code and examine the outputs. There are several tasks below - insert code snippets in the space provided, or where you are asked questions, use the +Text button to give your answer below your code output. Once you have given all your answers, press Ctrl+P and take a PDF of the page for submission.\n",
        "\n",
        "This exercise has the following sections.\n",
        "\n",
        "1. Basic I/O\n",
        "2. Lists and Tuples\n",
        "3. Flow Control\n",
        "4. Handling Exceptions\n",
        "5. Modules\n",
        "6. Plotting\n",
        "7. Challenge task\n",
        "\n",
        "Your name - \n",
        "\n",
        "Your roll number - \n",
        "\n",
        "Date - \n",
        "\n",
        "---\n",
        "## 1. Basic I/0\n",
        "\n",
        "The following code snippets show how you can perform some simple operations like printing strings, getting inputs from users, performing basic mathematical operations etc. \n",
        "\n"
      ],
      "metadata": {
        "id": "ZBEssm0hUUb3"
      }
    },
    {
      "cell_type": "code",
      "source": [
        "print('Hello World!')"
      ],
      "metadata": {
        "id": "9f20O-G3UhR8"
      },
      "execution_count": null,
      "outputs": []
    },
    {
      "cell_type": "code",
      "source": [
        "name = input('Enter your name:')\n",
        "age = input('Enter your age: ')\n",
        "\n",
        "print('Your name is %s and your age is %s' %(name,age))"
      ],
      "metadata": {
        "id": "HiLKHBuYUr5c"
      },
      "execution_count": null,
      "outputs": []
    },
    {
      "cell_type": "code",
      "source": [
        "a = 10\n",
        "b = 'Your name'\n",
        "c = -5.0\n",
        "\n",
        "print('a is a %s' %type(a))\n"
      ],
      "metadata": {
        "id": "1k1KgMh_VB8G"
      },
      "execution_count": null,
      "outputs": []
    },
    {
      "cell_type": "markdown",
      "source": [
        "**Task 1** - Print out the data type for the variables b and c below. "
      ],
      "metadata": {
        "id": "Ou3mxqvFrBuN"
      }
    },
    {
      "cell_type": "code",
      "source": [
        "#Enter your code here."
      ],
      "metadata": {
        "id": "DNOJivfzrZlM"
      },
      "execution_count": null,
      "outputs": []
    },
    {
      "cell_type": "code",
      "source": [
        "a = 26\n",
        "b = 5\n",
        "\n",
        "c = a//b\n",
        "d = a/b\n",
        "print(c,d) "
      ],
      "metadata": {
        "id": "Mgq7JJi_VeN9"
      },
      "execution_count": null,
      "outputs": []
    },
    {
      "cell_type": "markdown",
      "source": [
        "**Task 2** - Print the sum and difference of a and b, and raise the variable a to the power of b."
      ],
      "metadata": {
        "id": "fIvMu53MrQpB"
      }
    },
    {
      "cell_type": "code",
      "source": [
        "#Enter your code here."
      ],
      "metadata": {
        "id": "41HlMLysrbdH"
      },
      "execution_count": null,
      "outputs": []
    },
    {
      "cell_type": "markdown",
      "source": [
        "**Task 3.1** - **Typecasting** - \n",
        "\n",
        "This is a useful I/O tool that comes handy when handling different data types. Examine the code snippet below, and explain how typecasting works. "
      ],
      "metadata": {
        "id": "zvj4ttejre4D"
      }
    },
    {
      "cell_type": "code",
      "source": [
        "a = 4.5\n",
        "b = 4\n",
        "print(int(a))\n",
        "print(float(b))"
      ],
      "metadata": {
        "id": "8QcYHfsEaqbN"
      },
      "execution_count": null,
      "outputs": []
    },
    {
      "cell_type": "markdown",
      "source": [
        "*Your answer here* - "
      ],
      "metadata": {
        "id": "_nCARClGrx4n"
      }
    },
    {
      "cell_type": "markdown",
      "source": [
        "**Task 3.2 - Typecasting**  - Correct the following code using typecasting. "
      ],
      "metadata": {
        "id": "090o15eLsATZ"
      }
    },
    {
      "cell_type": "code",
      "source": [
        "#Correct the following code using typecasting\n",
        "name = input('Enter your name:')\n",
        "age = input('Enter your age: ')\n",
        "\n",
        "print('Your name is %s and your age is %f' %(name,age))"
      ],
      "metadata": {
        "id": "bjxB1ZxDbsIr"
      },
      "execution_count": null,
      "outputs": []
    },
    {
      "cell_type": "markdown",
      "source": [
        "---"
      ],
      "metadata": {
        "id": "x8MY1tbG3bJG"
      }
    },
    {
      "cell_type": "markdown",
      "source": [
        "## 2. Lists and Tuples\n",
        "\n",
        "Lists and Tuples are two of the most important datatypes in Python. If you know how to work with these two data types, then along with basic I/O and flow control, you will be able to write very simple and effective programs. \n",
        "\n",
        "Run the code snippets and complete the tasks below.\n",
        "\n",
        "**Task 4** - Explain how numbering/indexing works for lists by examining the output of the code snippet below. "
      ],
      "metadata": {
        "id": "Gj06rrh5spb6"
      }
    },
    {
      "cell_type": "code",
      "source": [
        "list1 = ['10','20','Your name','Your age']\n",
        "print(list1[0])\n",
        "print(list1[1])\n",
        "print(list1[-1])\n",
        "print(list1[-2])"
      ],
      "metadata": {
        "id": "QMELbAgpWKA5"
      },
      "execution_count": null,
      "outputs": []
    },
    {
      "cell_type": "markdown",
      "source": [
        "*Your answer here -* "
      ],
      "metadata": {
        "id": "q4vJMKMbtMyR"
      }
    },
    {
      "cell_type": "markdown",
      "source": [
        "### 2.1 Editing lists\n",
        "\n",
        "The following codes and tasks will demonstrate how to edit lists. Run the code snippet below, and complete the task following it. "
      ],
      "metadata": {
        "id": "57PaVvPCtt3a"
      }
    },
    {
      "cell_type": "code",
      "source": [
        "list1[0] = 30\n",
        "print(list1)\n",
        "\n",
        "popped = list1.pop(1)\n",
        "print(list1)\n",
        "print(popped)"
      ],
      "metadata": {
        "id": "EebX-ASMXMRu"
      },
      "execution_count": null,
      "outputs": []
    },
    {
      "cell_type": "markdown",
      "source": [
        "**Task 5** - Search for the function of the methods del and remove and demonstrate their functioning below. "
      ],
      "metadata": {
        "id": "4Ja699WMv9pB"
      }
    },
    {
      "cell_type": "code",
      "source": [
        "list1 = ['10','20','Your name','Your age']\n",
        "#Insert your code here. "
      ],
      "metadata": {
        "id": "-yXB9AnDwLOV"
      },
      "execution_count": null,
      "outputs": []
    },
    {
      "cell_type": "markdown",
      "source": [
        "### 2.2 List operations\n",
        "\n",
        "Here are some interesting operations you can perform using lists. Run the code snippets below and examine the outputs. "
      ],
      "metadata": {
        "id": "KHHNvq5AwOwC"
      }
    },
    {
      "cell_type": "code",
      "source": [
        "list2 = [40,50,'My name', 'My age']\n",
        "\n",
        "list3 = list1 + list2\n",
        "list4 = list3*2\n",
        "\n",
        "print(list3)\n",
        "print(list4)"
      ],
      "metadata": {
        "id": "sx7ZPFsUaQKd"
      },
      "execution_count": null,
      "outputs": []
    },
    {
      "cell_type": "markdown",
      "source": [
        "**Task 6** - Run the following cell multiple times, and explain the output."
      ],
      "metadata": {
        "id": "-UOmfmjuwon7"
      }
    },
    {
      "cell_type": "code",
      "source": [
        "list1.append(popped)\n",
        "print(list1)"
      ],
      "metadata": {
        "id": "TkkrxYiQZuQK"
      },
      "execution_count": null,
      "outputs": []
    },
    {
      "cell_type": "markdown",
      "source": [
        "*Your answer here -*\n",
        "\n",
        "---"
      ],
      "metadata": {
        "id": "E8RpUQFRwvdx"
      }
    },
    {
      "cell_type": "markdown",
      "source": [
        "### 2.3 Defining tuples\n",
        "\n",
        "Note the use of the rounded parenthesis."
      ],
      "metadata": {
        "id": "RyGG8_2Gw9Pb"
      }
    },
    {
      "cell_type": "code",
      "source": [
        "tuple1 = ('10','20','Your name','Your age')\n",
        "print(tuple1)\n",
        "print(type(tuple1))"
      ],
      "metadata": {
        "id": "JpLD0z3CcUAW"
      },
      "execution_count": null,
      "outputs": []
    },
    {
      "cell_type": "markdown",
      "source": [
        "Note the indexing."
      ],
      "metadata": {
        "id": "fMXAsbN9xGE2"
      }
    },
    {
      "cell_type": "code",
      "source": [
        "print(tuple1[0])\n",
        "print(tuple1[1])\n",
        "print(tuple1[-1])\n",
        "print(tuple1[-2])"
      ],
      "metadata": {
        "id": "_pZgU8wIciED"
      },
      "execution_count": null,
      "outputs": []
    },
    {
      "cell_type": "markdown",
      "source": [
        "**Task 7** - Explain the output of the following code snippet. "
      ],
      "metadata": {
        "id": "3OJvK3TbxJIi"
      }
    },
    {
      "cell_type": "code",
      "source": [
        "tuple1[0]='Name'"
      ],
      "metadata": {
        "id": "gXrVlPLdct9W"
      },
      "execution_count": null,
      "outputs": []
    },
    {
      "cell_type": "markdown",
      "source": [
        "*Your answer here -*\n",
        "\n",
        "---"
      ],
      "metadata": {
        "id": "tC_bVmgwHXoB"
      }
    },
    {
      "cell_type": "markdown",
      "source": [
        "### 2.4 Slicing tuples\n",
        "\n",
        "See how you can selectively output different portions of the tuple sequence. "
      ],
      "metadata": {
        "id": "xu1QRGb0xiwI"
      }
    },
    {
      "cell_type": "code",
      "source": [
        "print(tuple1[0:2])\n",
        "print(tuple1[1:])\n",
        "print(tuple1[:2])\n",
        "print(tuple1[:])"
      ],
      "metadata": {
        "id": "Wv7xjQ_lc7ZA"
      },
      "execution_count": null,
      "outputs": []
    },
    {
      "cell_type": "markdown",
      "source": [
        "### 2.5 Tuple assignment\n",
        "\n",
        "You can do both a left side and a right side assignment using tuples. Replace the rounded parenthesis with a square parenthesis and see the output. "
      ],
      "metadata": {
        "id": "aoH7D8hNx01U"
      }
    },
    {
      "cell_type": "code",
      "source": [
        "UserData = ('Srikanth','Mandi','10.0.0.1',3)\n",
        "(name,location,IP,instances) = UserData\n",
        "\n",
        "print(name)\n",
        "print(location)"
      ],
      "metadata": {
        "id": "TaKRNumhd5AG"
      },
      "execution_count": null,
      "outputs": []
    },
    {
      "cell_type": "markdown",
      "source": [
        "**Task 8 - Swap code**\n",
        "\n",
        "Write a programme to swap the values stored in two variables, first by using a\n",
        "temporary variable, and then by using tuples."
      ],
      "metadata": {
        "id": "kX0py82ByJaE"
      }
    },
    {
      "cell_type": "code",
      "source": [
        "#Enter your code here."
      ],
      "metadata": {
        "id": "pL5EVHtZyWvg"
      },
      "execution_count": null,
      "outputs": []
    },
    {
      "cell_type": "markdown",
      "source": [
        "---"
      ],
      "metadata": {
        "id": "BWh7jX5f3esg"
      }
    },
    {
      "cell_type": "markdown",
      "source": [
        "##3. Flow Control\n",
        "\n",
        "In the following section, you will see how you can control flow of the program - by either iterating it multiple times using a for loop, or using a conditional statement using a while loop. "
      ],
      "metadata": {
        "id": "63tdFyPIyaJf"
      }
    },
    {
      "cell_type": "markdown",
      "source": [
        "### 3.1 Using the for loop\n",
        "\n",
        "Examine the output of the following code snippet."
      ],
      "metadata": {
        "id": "5pLD8PtZyqsK"
      }
    },
    {
      "cell_type": "code",
      "source": [
        "name = 'Your name'\n",
        "print(\"The string has %d characters\" %len(name))\n",
        "range(len(name))\n",
        "\n",
        "for i in range(len(name)):\n",
        "  print(name[i])"
      ],
      "metadata": {
        "id": "_6BsrbbMe1ec"
      },
      "execution_count": null,
      "outputs": []
    },
    {
      "cell_type": "markdown",
      "source": [
        "**Task 9** - Explain what is the following code snippet doing."
      ],
      "metadata": {
        "id": "-JaVgfmpzAkP"
      }
    },
    {
      "cell_type": "code",
      "source": [
        "#What is the following code doing?\n",
        "for i in range(0,len(name),2):\n",
        "  print(name[i])"
      ],
      "metadata": {
        "id": "Nu4W2wlBzEb0"
      },
      "execution_count": null,
      "outputs": []
    },
    {
      "cell_type": "markdown",
      "source": [
        "*Your answer here -*\n",
        "\n",
        "---"
      ],
      "metadata": {
        "id": "nFcrvRIpzFgu"
      }
    },
    {
      "cell_type": "markdown",
      "source": [
        "### 3.2 Using the while loop"
      ],
      "metadata": {
        "id": "a9lwCrFwzlA_"
      }
    },
    {
      "cell_type": "markdown",
      "source": [
        "**Task 10** - Debug the code below"
      ],
      "metadata": {
        "id": "Ajy33nnGzNND"
      }
    },
    {
      "cell_type": "code",
      "source": [
        "i = 0\n",
        "\n",
        "while i<len(name):\n",
        "  print(name([i]))\n",
        "  i+=1"
      ],
      "metadata": {
        "id": "LilQCVHwgNSt"
      },
      "execution_count": null,
      "outputs": []
    },
    {
      "cell_type": "markdown",
      "source": [
        "**Task 11** - Write a code using a while loop, to replicate the output of the code from Task 9. "
      ],
      "metadata": {
        "id": "egtDwMNXzYaU"
      }
    },
    {
      "cell_type": "code",
      "source": [
        "#Enter your code here."
      ],
      "metadata": {
        "id": "Nacpa3aGzviC"
      },
      "execution_count": null,
      "outputs": []
    },
    {
      "cell_type": "markdown",
      "source": [
        "---"
      ],
      "metadata": {
        "id": "INgN3Xrb3hk3"
      }
    },
    {
      "cell_type": "markdown",
      "source": [
        "## 4. Handling exceptions\n",
        "\n",
        "When controlling equipment or acquiring data from sensors, it may become necessary to periodically query the sensors in a continuous fashion, till the user presses a key. In Python, such 'interrupts' are facilitated by exception handling routines. \n",
        "\n",
        "See the following code. Here, a while loop runs continuously (endlessly!), till the user presses a key. To enable such functionality, the **try..except** block is used. The while loop is put inside this block, such that when the user presses a key, the while loop is stopped, and whatever code is written within the except block is implemented.\n",
        "\n",
        "**NOTE** - *Within Google Collaboratory, the keyboard interrupt doesn't work. Instead, you will have to press the 'Stop' button next to the cell. This generates the interrupt and the except code block is implemented. *"
      ],
      "metadata": {
        "id": "FtQPBva-zx4l"
      }
    },
    {
      "cell_type": "code",
      "source": [
        "from time import sleep\n",
        "\n",
        "i = 0\n",
        "try:\n",
        "  while True:\n",
        "    print(i)\n",
        "    i+=1\n",
        "    sleep(1)\n",
        "\n",
        "#When you stop the programme by pressing the stop button...\n",
        "except KeyboardInterrupt:\n",
        "  print('Run terminated by user.')\n",
        "\n"
      ],
      "metadata": {
        "id": "H2-hCtgohP6G"
      },
      "execution_count": null,
      "outputs": []
    },
    {
      "cell_type": "markdown",
      "source": [
        "Similarly, when controlling remote hardware, it is good practice to terminate the connection  with it after the program run is complete. In such cases, the try..finally block can be used. See the following code example. \n",
        "\n",
        "**NOTE** - **try** can be used either with **finally**, or with **except**, but not both. \n"
      ],
      "metadata": {
        "id": "UFCqauy12usb"
      }
    },
    {
      "cell_type": "code",
      "source": [
        "try:\n",
        "  name = 'Your name'\n",
        "  \n",
        "  for i in range(len(name)):\n",
        "    print(name[i])\n",
        "\n",
        "finally:\n",
        "  print('Program run complete.')\n"
      ],
      "metadata": {
        "id": "rjEdOvkQiYEP"
      },
      "execution_count": null,
      "outputs": []
    },
    {
      "cell_type": "markdown",
      "source": [
        "---"
      ],
      "metadata": {
        "id": "yjtTeAWj3kYF"
      }
    },
    {
      "cell_type": "markdown",
      "source": [
        "## 5. Modules\n",
        "\n",
        "If you are using the same kind of code over and over, it becomes useful to define it as a module. This also results in a cleaner and readable code, and makes it easier to debug. \n",
        "\n",
        "See the following example where a module that performs a simple addition of two variables is first defined, and then used in the code snippet following it. \n",
        "\n",
        "The variables (a,b) are called the arguments of the module. The module performs the addition, and 'returns' the output, which is collected by the variable c in the code snippet. "
      ],
      "metadata": {
        "id": "ehqzu5hU3lbC"
      }
    },
    {
      "cell_type": "code",
      "source": [
        "#Module definition\n",
        "def mod_sum(a,b):\n",
        "  return a+b\n",
        "\n",
        "#Code snippet\n",
        "a = 10\n",
        "b = 20\n",
        "c = mod_sum(a,b)    #Function called.\n",
        "\n",
        "print(c)"
      ],
      "metadata": {
        "id": "wjWQsC2ti_62"
      },
      "execution_count": null,
      "outputs": []
    },
    {
      "cell_type": "markdown",
      "source": [
        "The most powerful advantage of defining modules is that you can define a module and save it as a .py file, that can be reused across programs. You just have to put the .py file in the same folder you are writing and saving your new program, and then just call it from your new program. We will use this feature when we do our labs.\n",
        "\n",
        "---\n",
        "\n",
        "**Task 12** - See the following module definition, where I am returning two variables. Examine the data type of the 'output' variable. What do you think is the advantage of having such a data-type returned from the module? How will you convert the data-type to a more usable format? "
      ],
      "metadata": {
        "id": "iwrwcE4Z5pKX"
      }
    },
    {
      "cell_type": "code",
      "source": [
        "#module definition\n",
        "def mod_mean(list1):\n",
        "\n",
        "  meansum = 0\n",
        "  for i in range(len(list1)):\n",
        "    meansum+=list1[i]\n",
        "  \n",
        "  meanval = meansum/len(list1)\n",
        "\n",
        "  return list1, meanval   #Note the two return values.\n",
        "\n",
        "\n",
        "#Code snippet\n",
        "list2 = [10,20,30,40,60,70]\n",
        "\n",
        "output = mod_mean(list2)    #Function call"
      ],
      "metadata": {
        "id": "tZY-dXoxngBj"
      },
      "execution_count": null,
      "outputs": []
    },
    {
      "cell_type": "markdown",
      "source": [
        "*Your answer here -*\n",
        "\n",
        "---"
      ],
      "metadata": {
        "id": "o-hlazbe8i7k"
      }
    },
    {
      "cell_type": "markdown",
      "source": [
        "## 6. Plotting\n",
        "\n",
        "Run the following code, and change the options as you please to see the changes in the output. \n",
        "\n"
      ],
      "metadata": {
        "id": "DMtLjTxA8pbb"
      }
    },
    {
      "cell_type": "code",
      "source": [
        "import matplotlib.pyplot as plt     #This is the module needing for plotting the figures. \n",
        "import numpy as np                  #This module is for performing the mathematical operations (sin, cos, exp)\n",
        "\n",
        "x = [*range(1000)]\n",
        "\n",
        "for i in range(len(x)):\n",
        "  x[i] = x[i]/len(x)*6*np.pi\n",
        "\n",
        "\n",
        "f1 = 0.5 * np.sin(x)\n",
        "\n",
        "\n",
        "f4 = [*range(len(x))]\n",
        "\n",
        "for i in range(len(x)):\n",
        "  f4[i] = np.exp(-1*x[i])*np.cos(x[i])\n",
        "\n",
        "plt.plot(x,f1,c='g',lw = 2)\n",
        "plt.plot(x,f4,c='b',lw = 2)\n",
        "plt.xlim(0,3*np.pi)\n",
        "plt.text(2.0,0.55, r'$\\frac{1}{2}\\sin(x)$',size=18)\n",
        "plt.text(3.5,0.1,r'$\\exp(-x)\\cos(x)$',size = 18)\n",
        "plt.xlabel(r'$x$',size = 18)\n",
        "plt.ylabel(r'$f(x)$',size = 18)\n",
        "plt.grid()\n",
        "plt.title('Demo of matplotlib functions',size = 20)\n",
        "\n",
        "plt.show()"
      ],
      "metadata": {
        "id": "PUmVJzUW9D6d"
      },
      "execution_count": null,
      "outputs": []
    },
    {
      "cell_type": "markdown",
      "source": [
        "**Task 13** - \n",
        "\n",
        "1.   Plot f1 and f2 in separate figures. \n",
        "2.   Change the line width of the plots.\n",
        "3.   Change the colours of the plots. \n",
        "4.   Plot f1 and f2 as sub-plots\n",
        "5.   Plot a horizontal line that lies on the x-axis.\n",
        "6.   Plot a mathematical function of your choice. \n",
        "\n",
        "--- \n",
        "\n"
      ],
      "metadata": {
        "id": "m1FsBqP-CHPN"
      }
    },
    {
      "cell_type": "markdown",
      "source": [
        "## 7. Challenge Task\n",
        "\n",
        "The sine function can be approximated as a Taylor series expansion. Write a program to show how the sine function is approximated by increasing the number of terms in the Taylor series expansion progressively, while comparing it with the result obtained using the numpy library's sine function. Present your result in the form of a plot, where along the x axis you have the number of terms used in the Taylor series expansion, while on the y-axis you have error from the true value. \n",
        "\n",
        "*Hint* - Define a module for the factorial function. Use a for/while loop to store the error values."
      ],
      "metadata": {
        "id": "-ld0PJcPD2x-"
      }
    }
  ]
}