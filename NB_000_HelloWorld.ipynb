{
 "cells": [
  {
   "cell_type": "markdown",
   "metadata": {},
   "source": [
    "# Python Crash Course 1 - Hello World!"
   ]
  },
  {
   "cell_type": "markdown",
   "metadata": {},
   "source": [
    "<i><b>Srikanth Sugavanam</b>, Assistant Professor, SCEE, IIT Mandi, India. December 14th 2020.</i>"
   ]
  },
  {
   "cell_type": "markdown",
   "metadata": {},
   "source": [
    "## Learning outcomes\n",
    "\n",
    "1. Output strings with variable lists.\n",
    "2. Handle different basic data types.\n",
    "3. Use simple string manipulation techniques"
   ]
  },
  {
   "cell_type": "markdown",
   "metadata": {},
   "source": [
    "## 1. Hello world!\n",
    "\n",
    "Here is a simple code to generate string outputs.</n></n>"
   ]
  },
  {
   "cell_type": "code",
   "execution_count": 2,
   "metadata": {},
   "outputs": [
    {
     "name": "stdout",
     "output_type": "stream",
     "text": [
      "Hello World!\n"
     ]
    }
   ],
   "source": [
    "print(\"Hello World!\")"
   ]
  },
  {
   "cell_type": "markdown",
   "metadata": {},
   "source": [
    "It is also possible to include variables within the print command in two ways. See how %s maps to the string (alpha-numeric) variable \"Srikanth\". "
   ]
  },
  {
   "cell_type": "code",
   "execution_count": 17,
   "metadata": {},
   "outputs": [
    {
     "name": "stdout",
     "output_type": "stream",
     "text": [
      "<class 'str'>\n",
      "My name is Srikanth Sugavanam\n",
      "My name is Srikanth Sugavanam.\n"
     ]
    }
   ],
   "source": [
    "my_name = 'Srikanth';\n",
    "print(type(my_name))\n",
    "\n",
    "print(\"My name is\", my_name, \"Sugavanam\")\n",
    "print(\"My name is %s Sugavanam.\" %my_name)"
   ]
  },
  {
   "cell_type": "markdown",
   "metadata": {},
   "source": [
    "## 2. Doing some simple inline math\n",
    "\n",
    "Python can identify the data type automatically, so it is easy for us. It also allows for simple inline math within the print command itself. \n",
    "\n",
    "Note how the %d maps to the integer values, and %f maps float (decimal values). Also note how the % sign is used to separate between the output string and variable list.\n",
    "\n",
    "<b><i>Try this out</i></b> - what will happen if you replace %f with %d below?"
   ]
  },
  {
   "cell_type": "code",
   "execution_count": 10,
   "metadata": {},
   "outputs": [
    {
     "name": "stdout",
     "output_type": "stream",
     "text": [
      "<class 'int'>\n",
      "<class 'float'>\n",
      "If I add 25, 26 and 27.500000, I will get 78.500000\n"
     ]
    }
   ],
   "source": [
    "int1 = 25;\n",
    "int2 = 26;\n",
    "float3 = 27.5;\n",
    "\n",
    "print(type(int1))\n",
    "print(type(float3))\n",
    "\n",
    "print(\"If I add %d, %d and %f, I will get %f\" %(int1, int2, float3, int1 + int2 + float3))"
   ]
  },
  {
   "cell_type": "markdown",
   "metadata": {},
   "source": [
    "## 3. Boolean logic"
   ]
  },
  {
   "cell_type": "markdown",
   "metadata": {},
   "source": [
    "\"True\" and \"False\" are Boolean logic variables, which are often used for marking whether a particular programming logic is satisfied, e.g. if a number is greater than zero, then the logic is correct, or TRUE. Python again automatically identifies the data type as Boolean. %r is used as the label for the Boolean variable"
   ]
  },
  {
   "cell_type": "code",
   "execution_count": 16,
   "metadata": {},
   "outputs": [
    {
     "name": "stdout",
     "output_type": "stream",
     "text": [
      "<class 'bool'>\n",
      "This is a great joke! False\n",
      "This is a great joke! False\n"
     ]
    }
   ],
   "source": [
    "#Note that there is no character between the end of the string and the variable list\n",
    "hilarious = False\n",
    "print(type(hilarious))\n",
    "joke_evaluation = \"This is a great joke! %r\"\n",
    "\n",
    "print(joke_evaluation % hilarious)\n",
    "print(\"This is a great joke! %r\" % hilarious)"
   ]
  },
  {
   "cell_type": "markdown",
   "metadata": {},
   "source": [
    "## 4. Manipulating strings\n",
    "\n",
    "Python is extremely versatile when it comes to handling strings. Simple procedures like concatenating (attaching) two or more strings, or randomly accessing different parts of a string are very easy. See below for an example of concatenation. "
   ]
  },
  {
   "cell_type": "code",
   "execution_count": 19,
   "metadata": {},
   "outputs": [
    {
     "name": "stdout",
     "output_type": "stream",
     "text": [
      "I am adding this string......and this string.\n"
     ]
    }
   ],
   "source": [
    "s1 = \"I am adding this string...\"\n",
    "s2 = \"...and this string.\"\n",
    "\n",
    "print(s1+s2)"
   ]
  },
  {
   "cell_type": "markdown",
   "metadata": {},
   "source": [
    "You can randomly access different parts of the string in the following way. "
   ]
  },
  {
   "cell_type": "code",
   "execution_count": 24,
   "metadata": {},
   "outputs": [
    {
     "name": "stdout",
     "output_type": "stream",
     "text": [
      "I\n",
      " \n",
      "a\n",
      "m\n",
      " adding\n"
     ]
    }
   ],
   "source": [
    "print(s1[0])\n",
    "print(s1[1])\n",
    "print(s1[2])\n",
    "print(s1[3])\n",
    "print(s1[4:11])"
   ]
  },
  {
   "cell_type": "markdown",
   "metadata": {},
   "source": [
    "...or you can also do something like this. "
   ]
  },
  {
   "cell_type": "code",
   "execution_count": 9,
   "metadata": {},
   "outputs": [
    {
     "name": "stdout",
     "output_type": "stream",
     "text": [
      "S\n",
      " S\n",
      " S\n",
      " S\n",
      " S\n",
      " S\n",
      " S\n",
      " S\n",
      " S\n",
      " S\n",
      " \n"
     ]
    }
   ],
   "source": [
    "print(\"%s\\n \" %my_name[0]*10)"
   ]
  }
 ],
 "metadata": {
  "kernelspec": {
   "display_name": "Python 3",
   "language": "python",
   "name": "python3"
  },
  "language_info": {
   "codemirror_mode": {
    "name": "ipython",
    "version": 3
   },
   "file_extension": ".py",
   "mimetype": "text/x-python",
   "name": "python",
   "nbconvert_exporter": "python",
   "pygments_lexer": "ipython3",
   "version": "3.8.5"
  }
 },
 "nbformat": 4,
 "nbformat_minor": 4
}
