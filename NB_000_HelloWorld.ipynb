{
 "cells": [
  {
   "cell_type": "code",
   "execution_count": 1,
   "metadata": {},
   "outputs": [
    {
     "name": "stdout",
     "output_type": "stream",
     "text": [
      "My name is {my_name}\n"
     ]
    }
   ],
   "source": [
    "my_name = 'Srikanth'\n",
    "print(\"My name is {my_name}\")\n",
    "#The above snippet perhaps works in Python 3.6"
   ]
  },
  {
   "cell_type": "code",
   "execution_count": 2,
   "metadata": {},
   "outputs": [
    {
     "name": "stdout",
     "output_type": "stream",
     "text": [
      "My name is Srikanth Sugavanam\n",
      "My name is Srikanth.\n"
     ]
    }
   ],
   "source": [
    "print(\"My name is\", my_name, \"Sugavanam\")\n",
    "print(\"My name is %s.\" %my_name)"
   ]
  },
  {
   "cell_type": "code",
   "execution_count": 3,
   "metadata": {},
   "outputs": [
    {
     "name": "stdout",
     "output_type": "stream",
     "text": [
      "If I add 25, 26 and 27, I will get 78\n"
     ]
    }
   ],
   "source": [
    "int1 = 25;\n",
    "int2 = 26;\n",
    "int3 = 27;\n",
    "\n",
    "print(\"If I add %d, %d and %d, I will get %d\" %(int1, int2, int3, int1 + int2 + int3))"
   ]
  },
  {
   "cell_type": "code",
   "execution_count": 4,
   "metadata": {},
   "outputs": [
    {
     "name": "stdout",
     "output_type": "stream",
     "text": [
      "This is a great joke! False\n"
     ]
    }
   ],
   "source": [
    "#Note that there is no character between the end of the string and the variable list\n",
    "hilarious = False\n",
    "joke_evaluation = \"This is a great joke! %r\"\n",
    "\n",
    "print(joke_evaluation % hilarious)"
   ]
  },
  {
   "cell_type": "code",
   "execution_count": 5,
   "metadata": {},
   "outputs": [
    {
     "name": "stdout",
     "output_type": "stream",
     "text": [
      "I am adding this string......and this string.\n"
     ]
    }
   ],
   "source": [
    "s1 = \"I am adding this string...\"\n",
    "s2 = \"...and this string.\"\n",
    "\n",
    "print(s1+s2)"
   ]
  },
  {
   "cell_type": "code",
   "execution_count": 9,
   "metadata": {},
   "outputs": [
    {
     "name": "stdout",
     "output_type": "stream",
     "text": [
      "S\n",
      " S\n",
      " S\n",
      " S\n",
      " S\n",
      " S\n",
      " S\n",
      " S\n",
      " S\n",
      " S\n",
      " \n"
     ]
    }
   ],
   "source": [
    "print(\"%s\\n \" %my_name[0]*10)"
   ]
  }
 ],
 "metadata": {
  "kernelspec": {
   "display_name": "Python 3",
   "language": "python",
   "name": "python3"
  },
  "language_info": {
   "codemirror_mode": {
    "name": "ipython",
    "version": 3
   },
   "file_extension": ".py",
   "mimetype": "text/x-python",
   "name": "python",
   "nbconvert_exporter": "python",
   "pygments_lexer": "ipython3",
   "version": "3.8.5"
  }
 },
 "nbformat": 4,
 "nbformat_minor": 4
}
