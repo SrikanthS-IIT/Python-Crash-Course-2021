{
 "cells": [
  {
   "cell_type": "markdown",
   "metadata": {},
   "source": [
    "# Python Crash Course 1 - Hello World!"
   ]
  },
  {
   "cell_type": "markdown",
   "metadata": {},
   "source": [
    "<i><b>Srikanth Sugavanam</b>, Assistant Professor, SCEE, IIT Mandi, India. December 14th 2020.</i>"
   ]
  },
  {
   "cell_type": "markdown",
   "metadata": {},
   "source": [
    "## Learning outcomes\n",
    "\n",
    "1. Use the print command for displaying data outout. \n",
    "2. Differentiate between different basic data types.\n",
    "3. Perform simple inline mathematical calculations and string manipulations. "
   ]
  },
  {
   "cell_type": "markdown",
   "metadata": {},
   "source": [
    "## 1. Hello world!\n",
    "\n",
    "Here is a simple code to generate sentence/string outputs.</n></n>"
   ]
  },
  {
   "cell_type": "code",
   "execution_count": 2,
   "metadata": {},
   "outputs": [
    {
     "name": "stdout",
     "output_type": "stream",
     "text": [
      "Hello World!\n"
     ]
    }
   ],
   "source": [
    "print(\"Hello World!\")"
   ]
  },
  {
   "cell_type": "markdown",
   "metadata": {},
   "source": [
    "You can also use the print command to output variables. See how %s maps to the string (alpha-numeric) variable \"Srikanth\". "
   ]
  },
  {
   "cell_type": "code",
   "execution_count": 17,
   "metadata": {},
   "outputs": [
    {
     "name": "stdout",
     "output_type": "stream",
     "text": [
      "<class 'str'>\n",
      "My name is Srikanth Sugavanam\n",
      "My name is Srikanth Sugavanam.\n"
     ]
    }
   ],
   "source": [
    "my_name = 'Srikanth';\n",
    "print(type(my_name))\n",
    "\n",
    "print(\"My name is\", my_name, \"Sugavanam\")\n",
    "print(\"My name is %s Sugavanam.\" %my_name)"
   ]
  },
  {
   "cell_type": "markdown",
   "metadata": {},
   "source": [
    "Here's how you can work with inputs from the user. See what you enter an integer, a decimal number (float), and a name (string of alphabets)."
   ]
  },
  {
   "cell_type": "code",
   "execution_count": 4,
   "metadata": {},
   "outputs": [
    {
     "name": "stdin",
     "output_type": "stream",
     "text": [
      "Enter something... 89.09\n"
     ]
    },
    {
     "name": "stdout",
     "output_type": "stream",
     "text": [
      "The data type entered is <class 'str'>\n"
     ]
    }
   ],
   "source": [
    "user_input = input('Enter something...')\n",
    "print(\"The data type entered is %s\" % type(user_input))"
   ]
  },
  {
   "cell_type": "markdown",
   "metadata": {},
   "source": [
    "Say you wanted to print out the apostrophe itself, which is a special character in Python. You can use the backslash operator to do it."
   ]
  },
  {
   "cell_type": "code",
   "execution_count": 6,
   "metadata": {},
   "outputs": [
    {
     "name": "stdout",
     "output_type": "stream",
     "text": [
      "This string contains a special character,'\n"
     ]
    }
   ],
   "source": [
    "print(\"This string contains a special character,\\'\")"
   ]
  },
  {
   "cell_type": "markdown",
   "metadata": {},
   "source": [
    "<i><b>Try this out - </b></i> How would print out the backslash character?\n",
    "\n",
    "Here are some more examples of how you can use the print command. "
   ]
  },
  {
   "cell_type": "markdown",
   "metadata": {},
   "source": [
    "#### a. Breaking across lines when coding. "
   ]
  },
  {
   "cell_type": "code",
   "execution_count": 10,
   "metadata": {},
   "outputs": [
    {
     "name": "stdout",
     "output_type": "stream",
     "text": [
      "I am breaking this sentenceacross lines to enhance readability of my code, but the output remains unchanged\n"
     ]
    }
   ],
   "source": [
    "print('I am breaking this sentence\\\n",
    "across lines to \\\n",
    "enhance readability of my code, \\\n",
    "but the output appears as one line.');"
   ]
  },
  {
   "cell_type": "markdown",
   "metadata": {},
   "source": [
    "#### b. Breaking the output across lines"
   ]
  },
  {
   "cell_type": "code",
   "execution_count": null,
   "metadata": {},
   "outputs": [],
   "source": [
    "print(\"This is a sentence followed by a linefeed. \\n\\\n",
    "This is the sentence after the linefeed.\")"
   ]
  },
  {
   "cell_type": "markdown",
   "metadata": {},
   "source": [
    "## 2. Doing some simple inline math\n",
    "\n",
    "The print command can be used directly to do some simple \"inline\" math. \n",
    "\n",
    "See the example below. Note how the %d maps to the integer values, and %f maps float (decimal values). Also note how the % sign is used to separate between the output string and variable list.\n",
    "\n",
    "<b><i>Try this out</i></b> - what will happen if you replace %f with %d below?"
   ]
  },
  {
   "cell_type": "code",
   "execution_count": 10,
   "metadata": {},
   "outputs": [
    {
     "name": "stdout",
     "output_type": "stream",
     "text": [
      "<class 'int'>\n",
      "<class 'float'>\n",
      "If I add 25, 26 and 27.500000, I will get 78.500000\n"
     ]
    }
   ],
   "source": [
    "int1 = 25;\n",
    "int2 = 26;\n",
    "float3 = 27.5;\n",
    "\n",
    "print(type(int1))\n",
    "print(type(float3))\n",
    "\n",
    "print(\"If I add %d, %d and %f, I will get %f\" %(int1, int2, float3, int1 + int2 + float3))"
   ]
  },
  {
   "cell_type": "markdown",
   "metadata": {},
   "source": [
    "#### a. Some in-built functions"
   ]
  },
  {
   "cell_type": "markdown",
   "metadata": {},
   "source": [
    "Different libraries need to be imported into the Python environment when we need to perform complex mathematical operations. However, there are some basic functions that are already available which we can use directly without importing libraries. Here are the most commonly used ones. \n",
    "\n",
    "<i>Absolute function</i>"
   ]
  },
  {
   "cell_type": "code",
   "execution_count": null,
   "metadata": {},
   "outputs": [],
   "source": [
    "print (abs(-29.9));"
   ]
  },
  {
   "cell_type": "markdown",
   "metadata": {},
   "source": [
    "<i>Rounding up numbers</i>"
   ]
  },
  {
   "cell_type": "code",
   "execution_count": null,
   "metadata": {},
   "outputs": [],
   "source": [
    "print (round(abs(-29.9)))"
   ]
  },
  {
   "cell_type": "markdown",
   "metadata": {},
   "source": [
    "<i>Finding the maximum from a list of numbers</i>"
   ]
  },
  {
   "cell_type": "code",
   "execution_count": null,
   "metadata": {},
   "outputs": [],
   "source": [
    "print(max(25,340,30,423))"
   ]
  },
  {
   "cell_type": "markdown",
   "metadata": {},
   "source": [
    "<i>Quotient and Remainder</i>"
   ]
  },
  {
   "cell_type": "code",
   "execution_count": null,
   "metadata": {},
   "outputs": [],
   "source": [
    "print(divmod(235,2))\n",
    "print(type(divmod(235,2)))"
   ]
  },
  {
   "cell_type": "markdown",
   "metadata": {},
   "source": [
    "Note that this data-type is called a \"Tuple\". A tuple is a unique data-type that allows grouping different kinds of variables together. For example,"
   ]
  },
  {
   "cell_type": "code",
   "execution_count": 16,
   "metadata": {},
   "outputs": [
    {
     "name": "stdout",
     "output_type": "stream",
     "text": [
      "('Keanu Reeves', 'John Wick', 3, 2.5)\n",
      "<class 'tuple'>\n",
      "The name of the actor is Keanu Reeves\n"
     ]
    }
   ],
   "source": [
    "tuple_example = ('Keanu Reeves','John Wick',3,2.5) #Name of actor, name of movie, number of sequels, box office income in billions\n",
    "print(tuple_example)\n",
    "print(type(tuple_example))\n",
    "print('The name of the actor is %s' %tuple_example[0])"
   ]
  },
  {
   "cell_type": "markdown",
   "metadata": {},
   "source": [
    "## 3. Manipulating strings\n",
    "\n",
    "Python is extremely versatile when it comes to handling strings. Simple procedures like concatenating (attaching) two or more strings, or randomly accessing different parts of a string are very easy. See below for an example of concatenation. "
   ]
  },
  {
   "cell_type": "code",
   "execution_count": 5,
   "metadata": {},
   "outputs": [
    {
     "name": "stdout",
     "output_type": "stream",
     "text": [
      "I am adding this string...+++and this string.\n"
     ]
    }
   ],
   "source": [
    "s1 = \"I am adding this string...\"\n",
    "s2 = \"+++and this string.\"\n",
    "\n",
    "print(s1+s2)"
   ]
  },
  {
   "cell_type": "markdown",
   "metadata": {},
   "source": [
    "You can randomly access different parts of the string in the following way. "
   ]
  },
  {
   "cell_type": "code",
   "execution_count": 24,
   "metadata": {},
   "outputs": [
    {
     "name": "stdout",
     "output_type": "stream",
     "text": [
      "I\n",
      " \n",
      "a\n",
      "m\n",
      " adding\n"
     ]
    }
   ],
   "source": [
    "print(s1[0])\n",
    "print(s1[1])\n",
    "print(s1[2])\n",
    "print(s1[3])\n",
    "print(s1[4:11])"
   ]
  },
  {
   "cell_type": "markdown",
   "metadata": {},
   "source": [
    "...or you can also do something like this. "
   ]
  },
  {
   "cell_type": "code",
   "execution_count": 9,
   "metadata": {},
   "outputs": [
    {
     "name": "stdout",
     "output_type": "stream",
     "text": [
      "S\n",
      " S\n",
      " S\n",
      " S\n",
      " S\n",
      " S\n",
      " S\n",
      " S\n",
      " S\n",
      " S\n",
      " \n"
     ]
    }
   ],
   "source": [
    "print(\"%s\\n \" %my_name[0]*10)"
   ]
  }
 ],
 "metadata": {
  "kernelspec": {
   "display_name": "Python 3",
   "language": "python",
   "name": "python3"
  },
  "language_info": {
   "codemirror_mode": {
    "name": "ipython",
    "version": 3
   },
   "file_extension": ".py",
   "mimetype": "text/x-python",
   "name": "python",
   "nbconvert_exporter": "python",
   "pygments_lexer": "ipython3",
   "version": "3.8.5"
  }
 },
 "nbformat": 4,
 "nbformat_minor": 4
}
